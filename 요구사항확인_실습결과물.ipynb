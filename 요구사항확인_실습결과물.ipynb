{
 "cells": [
  {
   "cell_type": "code",
   "execution_count": 1,
   "metadata": {},
   "outputs": [
    {
     "data": {
      "image/png": "[encoded data removed]",
      "text/plain": [
       "<IPython.core.display.Image object>"
      ]
     },
     "execution_count": 1,
     "metadata": {},
     "output_type": "execute_result"
    }
   ],
   "source": [
    "from IPython.display import Image\n",
    "Image(\"picture.png\")\n"
   ]
  },
  {
   "cell_type": "markdown",
   "metadata": {},
   "source": [
    "### 정적 사이트 ( Server rendering )\n",
    "- html data를 가지고 온다\n",
    "- 받아온 데이터에서 적절한 값을 추출하는 과정 => parsing\n",
    "- blog 검색결과\n",
    "- HTML Tag : ol#reallink>div>(li.up>a[href=\"#\"]{실시간 검색어$$})*5\n",
    "- HTML 구조를 계층적으로 표현하는 DOM(Document Object Model) 형태이다.\n",
    "- html>body>div>ul>li...\n",
    "- html 파일 불러오기 => requests.get(URL)\n",
    "- 데이터 파싱 => bs = BeautiSoup([html데이터], \"html.parser\") => bs.select([selector])\n",
    "\n",
    "### 동적 사이트 ( Client rendering )\n",
    "- 어디에선가(_____=>API) 찾는 과정\n",
    "- 데이터를 불러오고\n",
    "- 데이터를 추출한다 => parsing"
   ]
  },
  {
   "cell_type": "markdown",
   "metadata": {},
   "source": [
    "### 다음 Blog => 검색어 : 파이썬"
   ]
  },
  {
   "cell_type": "code",
   "execution_count": 2,
   "metadata": {},
   "outputs": [
    {
     "name": "stdout",
     "output_type": "stream",
     "text": [
      "세종사이버대 컴퓨터AI공학과\n",
      "https://keyword.ad.daum.net/short/clk?q=j22E2fL3UCZx5rq-n5d5fvMFSAfd76tFDfQvjGQ6pUGhsz8iwD9PQLOR-niUGIgId7CCRAiMouZlFuPetCweb67TQFih7idFBikGj.Vn9ITX4QP.6agHwQYzSIGAkb9DQdXHX-TZPRFIcRuXUvJECWtamEmZk_BxHCeyFZot1hJw6lFC7xQsvrDQPCdnujPYUikmfQei.L.Wo1-PUjSZTXMIoCNoHyBXTVfot1-wmV-egmHnnyrRYueKpFSnoOeZE8aRBoqFXwjWIRa7NIOakuiJufGkHckIwhylJQ8glEI64l6.us8mtEjhWi_gJtM9s8b_l9s94MGh-yTEP3dpua6z9glD13QIvwM7B_9vk_BllDIS9NJnbHLbjW6aSxMMybk0&s=https%3A%2F%2Fhome.sjcu.ac.kr%2Fko%2Fcms%2FFR_CON%2Findex.do%3FMENU_ID%3D2470%26utm_source%3DSA%26utm_medium%3DDAUM_PC%26utm_campaign%3DSPRING1%26utm_content%3DKEYWORD%26utm_term%3D%ED%8C%8C%EC%9D%B4%EC%8D%AC%26DMKW%3D%25ED%258C%258C%25EC%259D%25B4%25EC%258D%25AC%26DMSKW%3D%25ED%258C%258C%25EC%259D%25B4%25EC%258D%25AC%26DMCOL%3DPM\n",
      "가비아 파이썬 호스팅 오픈\n",
      "https://keyword.ad.daum.net/short/clk?q=j3Zz5CBs.9cJbIbzNuPWIWILxV5JyXvR_kB5vWxX3saOJCpLpoBy6aFw1EYN-48BWIgLVvq5QnDfx5F1LV-ZEtfXz9UWtB2M7bwV4FIgl27VFXR2.2nlKenhDU__fzJoVAL4ZS_4YMYan5w3KWion_aqDvpWGQz3hvBVkdqrKluLpJZTtSYLxHL8YHIcHhEcMDsfetvhX__pSQ00&s=https%3A%2F%2Fwww.gabia.com%2Fad.php%3Fad%3DAD-0060251\n",
      "더조은컴퓨터아카데미 공식\n",
      "https://keyword.ad.daum.net/short/clk?q=j4LQdTd2Ac4.AWhtjEDYu28-ZzdIPZaH7A7yGpLF2Fm7Hyj1M8SWw3ovIA2Mt5eiVXFIsgSXVMQ14Fg41OAXzdIV17JNLHUef8h-q3wHO6emk5qczd-mil1T2mpOHvfER8-ErZ-siT5.aWZH3s.ZV7X4OjQFoJMdg_COHVc6zjcSH73QkvgcAu.z9x2HDjdBO4t2sbMS65JIaJrYalnkZeRAgpkzLRJie1mkRcnCdF8AZKlX-ggF8U.9YBqXR567gjVgePEn4MAsOpfqBCLHTsJyIkyxL8EZ5_-TOH2cDMT6QP6nV9PawL14.pxeAKQ8HPgeW-KQrqqBo3ndLkGsUwDUNCSq.ATB_lI0&s=http%3A%2F%2Ftjoeun.co.kr%2Ffront%2Flecture%2Flecture_list.asp%3Fpg%3D1%26ci%3D3%26job%3D0%26utm_source%3Ddaum%26utm_medium%3Dcpc%26utm_campaign%3Dpowerlink%26utm_content%3Dcontent%26utm_term%3D%7Bquery%7D%26DMKW%3D%25ED%258C%258C%25EC%259D%25B4%25EC%258D%25AC%26DMSKW%3D%25ED%258C%258C%25EC%259D%25B4%25EC%258D%25AC%26DMCOL%3DPM\n",
      "코딩을 창작하다, 위즈라이브\n",
      "https://keyword.ad.daum.net/short/clk?q=j4YLfG9_2.c2HgcEQjjqWKrRGT.GyQfEUtrpP7kZZnpPX2BGc1dtvXfPWfWYPSKTdxvdBOGfYpLjSKf8W7K-iCuFnCFsBA.zFtrAIIbklUm_s11KnfzckFuAl8NEsgF_K5CoepiV--TtLiaQWGRdFojsBXK48HvHVx9JMlSi5fXOLRpfKorlyuMZWyC6WWPVbRF.jvVzKuZjD3yc_Bga_twfFGFZGbIm4Rmbo-yDGoPhXMrXM4EDX7h9Lw8YkVDKw97OzhXbxUxENzdMJUfYgvQmLDD4o6X26pH3UYufxTta8Cx4j4Fr3hDU&s=https%3A%2F%2Fwizlive.com%2F%3FDMKW%3D%25ED%258C%258C%25EC%259D%25B4%25EC%258D%25AC%26DMSKW%3D%25ED%258C%258C%25EC%259D%25B4%25EC%258D%25AC%26DMCOL%3DPM%23%2F%3Futm_source%3Dkakao_sa%26utm_medium%3Dcpc%26utm_campaign%3Dkeyword_main%26utm_term%3D%7Bkeyword%7D\n",
      "강남아이티아카데미학원\n",
      "https://keyword.ad.daum.net/short/clk?q=j48l63kZYRSqMb5awuGO7doFWtmkkXDXEj5_Fb-DWP8dwfB6n9PgdNyh-CXlaA4vsUYirA5Sg9hEWbpf8Prt1qTB5sP4vUzqqwGz3arFRtzg-TpsF3hCx87sPJ.6IPhfp6HVOQCf9epjb_O4uVUratFBRoT6mFV46fzJ-vtdjeyAFT5o94zKyxHk_zUQVq_oLDA0&s=http%3A%2F%2Fgnitac.co.kr%2Fcourse%2Fnew_curri%2F133\n",
      "파이썬 필요할 땐, 크몽\n",
      "https://keyword.ad.daum.net/short/clk?q=j5fm8Dm1NmS4NyAAa.UQoKJ2m3LZ-qOT7lnfPA9B8KKTRIEZaChhCwpZK3gJggr7dPyS6P33GOMQX7d1B4YNvRa7MN6yhBGPg66tHdIj7no3X5DnyLrpBqT7Ry8c9mZ6.XEtPrWjonttBSiDX1FEUdfOCgu79l7dtQwGtTNa7QFXddeBUjWnnh5qEKoV.rR4sw3t3heT2WohiHLBN7xNLqPPj9c4zxBZ-47.iWNEk_VmV7LZD8nNnwUJ6ma.XqoO.eOEnLYCaKwnw7YyuiJzDpDcDWFiMGx_Ml2oPLvf7fODp4i9OM.pVXsdhHHZJEop3Cwrs.iE3lbiq4s9WiF6hPrkRPr9veZiQ610&s=https%3A%2F%2Fkmong.com%2Fcategory%2F605%3Futm_source%3Dpc_daum%26utm_medium%3Dcpc%26utm_campaign%3D6%26utm_content%3D2category%26utm_term%3D%ED%8C%8C%EC%9D%B4%EC%8D%AC%26utm_group%3D605%26DMKW%3D%25ED%258C%258C%25EC%259D%25B4%25EC%258D%25AC%26DMSKW%3D%25ED%258C%258C%25EC%259D%25B4%25EC%258D%25AC%26DMCOL%3DPM\n",
      "프로그래밍코딩, 숨고에서\n",
      "https://keyword.ad.daum.net/short/clk?q=j5sDdyaq7VpDzgoacMNTMJb8SGwhjkbMW-GhBtfHPJ53HWSS9jZmsQ.8k8.Lw1-ajVco2v7Ws89-ikoRRHDUCPzVyl_d54Dwn4v2aaItXID8kz9M7nn5s5-KAdBc9ynC3yvWTbB3drSoOKW7UZCUZrL-tJJtuMifRMr-eLtSTCFEPP53jS9PI9D8PJQicsXKQFNwvrdfAlT1aYiivXzlIAwHBUBlfCJf7wXhMXJhWP6Tw2yXDeuIfe1H_ejhqmHa7WiVlf8kBC-VmwSTJFW7SXpUCbmTthPsZwrFFz_ywzLlSubyca6ooBmB1KyN_QbvPwE0&s=https%3A%2F%2Fsoomgo.com%2Fhire%2F%25ED%2594%2584%25EB%25A1%259C%25EA%25B7%25B8%25EB%259E%2598%25EB%25B0%258D%3Futm_source%3Ddaum%26utm_medium%3Dcpc%26utm_campaign%3D%25ED%2594%2584%25EB%25A1%259C%25EA%25B7%25B8%25EB%259E%2598%25EB%25B0%258D%25EC%25BD%2594%25EB%2594%25A9%26utm_content%3Dlesson%26utm_term%3D%25ED%258C%258C%25EC%259D%25B4%25EC%258D%25AC\n",
      "빅데이터 분석 솔루션 텍스톰\n",
      "https://keyword.ad.daum.net/short/clk?q=j6yPu_vtBa7GbiwvWm5X9RSxSkCiYatYMc-XPKPwJSdD1rCKtKmwhXXhGqcIe6wdam7JUSGe8zUgA53X_f47Iv5axvmPEnPcbOAkLVQNl8etupx6tPw6tLX8NUPyWdMdn735fHeCyw4bMgsQDdtc.H9EFwzTzcui5tFfYEt2t.gT6odBpsoV_aZKu5xD7Y-3NMsCeYXfbKhI.kzjFccbjqpJDOl3J14AFptm6mY3eLaz-Qx9fCiKis_vTeXTPrNwlc1lgpfwjfRPUgNXoTXRtBKmaxGyWOZYtNCBN9PbQEoq4w00&s=http%3A%2F%2Ftextom.co.kr%2Fhome%2Fmain%2Fmain.php%3Futm_source%3Ddaum%26utm_medium%3Dkakao_ad%26utm_campaign%3Dsearch%26utm_content%3D%25EB%258B%25A4%25EC%259D%258C%2520%25ED%2581%25B4%25EB%25A6%25AD%25EC%258A%25A4\n",
      "대학인강 대표 유니와이즈\n",
      "https://keyword.ad.daum.net/short/clk?q=j7B5-pdduYZCEykgJGZeXp-Ehv-kQPl4q34HQmKOH6QSN7tPWJELPXqG6gSE6dyKdjHp4irCvD.OPYHwm_NTc9t.zVPsvKdHU6ZQlxf24nrw.gG5qe76.eXgyHisZrTwh29B2eC461oP94DSMdpzLuhGV-9qXNFwiPGdfvmj6xs967aPtXSZesGfP1a5kSh.jbKYJHs3r8Co-kmMEgzyB5K-kHDfq_LMn-dPKCgqzV.bBmwMY4pLJIkaPL2kzxs2s5eHxwh5mFcEL9_aMvQL5p2q6sDI25Y.scto-ewm-kshYVePWBS_FNB9F99VMJbJ2o5AaijzQ2FqbeQDF4gpBFoLQxbfWcqxrjQ8Z2ZrONyivXApzzY7iv8OW5gJ-tDD4efCJbGgmw_3aA00&s=http%3A%2F%2Fwww.uniwise.co.kr%2FuniwiseWeb%2Flecture%2FmovieLectureList.html%3FsubNo%3D3%26searchCategoryCode%3D003%26searchSubjectCode%3D1320%26SUBJECT_SJT_CD%3D1320%26leftMenuLType%3DT002%26lecKType%3DD%26utm_source%3Ddaum%26utm_medium%3Dcpc%26DMKW%3D%25ED%258C%258C%25EC%259D%25B4%25EC%258D%25AC%26DMSKW%3D%25ED%258C%258C%25EC%259D%25B4%25EC%258D%25AC%26DMCOL%3DPM\n",
      "G마켓 파이썬\n",
      "https://keyword.ad.daum.net/short/clk?q=j7QwGHFHxUxqem1dZCrA6HsuIqYWCUs8Lp2TzqzpEJb_9cPirlC6Y9RnPBS9gMwK3Ply61H-v5iLBSh9R1fwrcHyxKDvCfqJmYGqFQURzgapWhcYUABS8fN.wm3ydCM.B2l25BuCXq7JN24Hd877NR_XRuzHdOIzVzVNGmNiBxU7oLf2BxWk4nC7_BOFk5Gu8bUUehnBmuU._71OeMUwZ4PqsWh7DpMq5VcEL9MIc7jvpZ1PmBof_7hOuuQJzoeJV88e2r6oh3gATNILgWbnnLp4eQ2UJq7-ErtMaFPLDZB9-_ZM-EcfwSIXU5YXM7Ccj-gpfW9hVufVfzMDphbPEWYj&s=https%3A%2F%2Fjump.emforce.co.kr%2Fjumper52.jsp%3F1%3D1%2524%2524%2524%26EKAMS%3Dkakao.52.5188.22663.2049620.600388475%26trackingDays%3D30%2524%2524%2524http%3A%2F%2Fsearch.gmarket.co.kr%2Fsearch.aspx%3Fkeyword%3D%25C6%25C4%25C0%25CC%25BD%25E3%26jaehuid%3D200004008\n",
      "코리아IT아카데미 신촌점\n",
      "https://keyword.ad.daum.net/short/clk?q=T-e8E9yidLi5.5bI2qeHs2KTyQhaKK4hqMDphGkieROyqPbXKGjiqPQGmlgjlghQ5QOtU-luhe1P6au5aGEEQGG9fwM5sjaDVjShRPbLhsM5HCyiwHBl5reHBYuUZzLxsuwsx_77Gua3gFjKEBcwZccukegFXqjQRhVMbmBpLn5Ll2lYtucSDoe5KAIpBUzVI81jA4ym6u1O.JKFLfXr5ccShQv6FPbBBE_7FsvCzzSY2O3mkwQn8D8w_-xUE2AFazs0&s=http%3A%2F%2Fsinchon.koreaisacademy.com%2F%3FDMKW%3D%25ED%258C%258C%25EC%259D%25B4%25EC%258D%25AC%26DMSKW%3D%25ED%258C%258C%25EC%259D%25B4%25EC%258D%25AC%26DMCOL%3DWIDELINK\n",
      "이젠IT아카데미학원\n",
      "https://keyword.ad.daum.net/short/clk?q=T-x-xRSw5qhtvO3u9Rv.BW3b6Q1eZvBOqHy3h.uTI9R3vjdPxQNa82IdBBRRE5LjdZpW_Uo7LEqut1jb4A9OJHxSXZSkh1Vj-EqLvFW2N2ecmxSRs91Lo1U1yNov2Dg-JKvj.SwzgKDbKHCGMcF_tV7C8BKGHwVss4c_kBlr_4ZeHvmmV_I4skLdUq_CSxKeLj-734OxxuWOoQDHAFKe6vyLXWdsFdtixJBhnO5lGKMwch_XfmcfwAQS&s=https%3A%2F%2Fit.ezenac.co.kr%2F%3FDMKW%3D%25ED%258C%258C%25EC%259D%25B4%25EC%258D%25AC%26DMSKW%3D%25ED%258C%258C%25EC%259D%25B4%25EC%258D%25AC%26DMCOL%3DWIDELINK\n",
      "국가인증 코리아 IT아카데미\n",
      "https://keyword.ad.daum.net/short/clk?q=T.Ay8LTJmCWoJvDAIaadxFoasLWXh8sz2_HWCyWgtLKRTuxVg-Awz2S1JOhm9ViKrRXw_1noTbdiyEWN3XNxygYFMO-xnfFLxMQavLr-VVZdjdcFUt9oqQRYQBPoz36H3bXxFGiwzBzABweVAxBnYby-Rwu2OoMFpuXcJ7VToYEYGSsTPmmE9rs9XRQU7n5e85NaUvTf15wHsqacaUmUucx-JzHPBLMN8Yo-JJu2JuHTJU_nyGhnxbUNfqPir3uS9ag0&s=http%3A%2F%2Fwww.koreaisacademy.com%2F%3FDMKW%3D%25ED%258C%258C%25EC%259D%25B4%25EC%258D%25AC%26DMSKW%3D%25ED%258C%258C%25EC%259D%25B4%25EC%258D%25AC%26DMCOL%3DWIDELINK\n",
      "코리아IT아카데미 대구점\n",
      "https://keyword.ad.daum.net/short/clk?q=T.T8XK1SAh_H6gaJtLDBj5U3CFY2EIxlbE8yUEEPYuPmCGuC7wX4qCJDAJl3b6QSjMLcb7dpbHXg98CUmDq41_NmQ1feqgWFitr3m7gjinIIWgk_xWTPppa_-OIeh_VHfFVgpiZxcFxVAlh3dFuKkgDBvrUhPwQXI3poKlomhqO_WZ7Gk7.lzy4Z&s=http%3A%2F%2Fdaegu.koreaisacademy.com\n",
      "KG아이티뱅크교육문의 성혜리\n",
      "https://keyword.ad.daum.net/short/clk?q=T.feQJf7-zQYasOquuPMKw2DW.nGK61QQSDg8HAr3DZ9g11kskI9H285X9qahqkMU8LRuw8.i7eUFw2vPgV3nzcwCGlVR2N4Y.JOg..137Js4.i6Ox-n2HuhN6H.kvU2E.XL_k2.9NIU4A4W4YZcHVMOI6zjah1x3sqkH5M7U5ZaOCthguoTkkPX9pCvNeJ9JtaZvbOftjtzuw00&s=http%3A%2F%2Fwww.it-bankac.com%2Fcurriculum%2Fsub.php%3Fseq%3D48\n",
      " 파이썬\n",
      "http://100.daum.net/encyclopedia/view/24XXXXX90313\n",
      " 파이썬\n",
      "https://ko.wikipedia.org/wiki/%ED%8C%8C%EC%9D%B4%EC%8D%AC\n",
      " Python\n",
      "https://en.wikipedia.org/wiki/Python%20%28programming%20language%29\n",
      "파이썬이란 무엇인가?\n",
      "http://shinejaram.tistory.com/10\n",
      "파이썬? 일단 설치하자! (Mac OS)\n",
      "http://joecho.tistory.com/10\n",
      "파이썬(python) cp1\n",
      "http://business-leadership-m.tistory.com/6\n",
      "[Python] 파이썬 설치하기\n",
      "http://ssimplay.tistory.com/407\n",
      " 파이썬(Python): 1학년\n",
      "?w=bookpage&bookId=4836717&tab=introduction&DA=LB2&q=%ED%8C%8C%EC%9D%B4%EC%8D%AC\n",
      " Do it! 점프 투 파이썬\n",
      "?w=bookpage&bookId=1481287&tab=introduction&DA=LB2&q=%ED%8C%8C%EC%9D%B4%EC%8D%AC\n",
      " 파이썬(알기쉬운)(4판)\n",
      "?w=bookpage&bookId=975071&tab=introduction&DA=LB2&q=%ED%8C%8C%EC%9D%B4%EC%8D%AC\n",
      "파이썬입문 § 내가 직접 코딩해보며 이해하는 파이썬...\n",
      "http://cafe.daum.net/mtem/NfOU/49?q=%ED%8C%8C%EC%9D%B4%EC%8D%AC\n",
      "파이썬123 카페의 목표\n",
      "http://cafe.daum.net/python123/BPuj/1?q=%ED%8C%8C%EC%9D%B4%EC%8D%AC\n",
      "파이썬 창시자 귀도 반 로썸에 대하여(승귤입니다)\n",
      "http://cafe.daum.net/statsas/OHNr/71?q=%ED%8C%8C%EC%9D%B4%EC%8D%AC\n",
      "PyQt5 Tutorial - 파이썬으로 만드는 나만의 GUI 프로그램\n",
      "http://cafe.daum.net/python123/BPuK/9?q=%ED%8C%8C%EC%9D%B4%EC%8D%AC\n",
      "씨엠에스에듀, 손쉽게 파이썬 학습 가능한 '코드얼라이브' 공개\n",
      "http://v.media.daum.net/v/20201123101402139?f=o\n",
      "AI시대 필수언어 파이썬 쉽게 배울 수 있는 '코드얼라이브' 주목\n",
      "http://v.media.daum.net/v/20201123104910648?f=o\n",
      "CMS에듀, 파이썬 학습도구 ‘코드얼라이브’ 12월 정식 출시\n",
      "https://cp.news.search.daum.net/p/99839709\n",
      "파이썬 공식 커미터…“하루 3~4시간씩 자면서 오픈소스 기여”\n",
      "https://cp.news.search.daum.net/p/99836328\n",
      "11번가 파이썬\n",
      "http://www.11st.co.kr/connect/Gateway.tmall?method=Xsite&tid=1000111638&uid=7653182&code=1039\n",
      "쇼핑은 역시 옥션\n",
      "http://kd.auction.co.kr/kd_redirectse.asp?semagcd=SA20001&CODE=362KD99999999&lp=%2F%2Fsearch.auction.co.kr%2Fsearch%2Fsearch.aspx%3Fkeyword%3D%25C6%25C4%25C0%25CC%25BD%25E3&cosemkid=ov15488152552203906\n",
      "G마켓 파이썬\n",
      "http://jump.emforce.co.kr/jumper52.jsp?1=1$$$&EKAMS=daum.52.600.119.1244014070018.140381&trackingDays=30$$$http://affiliate.gmarket.co.kr/?com=emforce&media=nate&ch=code31&url=http://search.gmarket.co.kr/search.aspx?keyword=%C6%C4%C0%CC%BD%E3&jaehuid=200003989\n"
     ]
    }
   ],
   "source": [
    "import requests\n",
    "from bs4 import BeautifulSoup\n",
    "\n",
    "URL = \"https://search.daum.net/search?w=tot&DA=YZR&t__nil_searchbox=btn&sug=&sugo=&sq=&o=&q=%ED%8C%8C%EC%9D%B4%EC%8D%AC\"\n",
    "res = requests.get(URL)\n",
    "# print(res.text) # html 나옴\n",
    "\n",
    "dom = BeautifulSoup(res.text, \"html.parser\")\n",
    "\n",
    "post_elements = dom.select(\"div.coll_cont>ul.list_info>li\")\n",
    "\n",
    "for post_element in post_elements:\n",
    "    title_element = post_element.select_one(\"div.wrap_tit>a\")\n",
    "    title = title_element.text\n",
    "    url = title_element.attrs.get(\"href\")\n",
    "    print(title)\n",
    "    print(url)\n",
    "    "
   ]
  },
  {
   "cell_type": "markdown",
   "metadata": {},
   "source": [
    "### 관련 검색어 텍스트 추출"
   ]
  },
  {
   "cell_type": "code",
   "execution_count": 3,
   "metadata": {},
   "outputs": [
    {
     "data": {
      "text/plain": [
       "['파이썬 강좌',\n",
       " '파이썬 프로그래밍',\n",
       " '파이썬 책',\n",
       " '파이썬 뱀',\n",
       " '파이썬 다운로드',\n",
       " '파이썬 예제',\n",
       " '파이썬 맵',\n",
       " '파이썬 아나콘다',\n",
       " '파이썬 설치',\n",
       " '파이썬 자격증',\n",
       " '파이썬 활용',\n",
       " '파일썬',\n",
       " 'python',\n",
       " '파이썬 학원',\n",
       " '파이썬 코딩',\n",
       " '파이썬 기초',\n",
       " '파이썬 강의',\n",
       " '파이썬 R',\n",
       " '파이썬 교재',\n",
       " '파이썬 주식',\n",
       " '파이썬 강좌',\n",
       " '파이썬 프로그래밍',\n",
       " '파이썬 책',\n",
       " '파이썬 뱀',\n",
       " '파이썬 다운로드',\n",
       " '파이썬 예제',\n",
       " '파이썬 맵',\n",
       " '파이썬 아나콘다',\n",
       " '파이썬 설치',\n",
       " '파이썬 자격증',\n",
       " '파이썬 활용',\n",
       " '파일썬',\n",
       " 'python',\n",
       " '파이썬 학원',\n",
       " '파이썬 코딩',\n",
       " '파이썬 기초',\n",
       " '파이썬 강의',\n",
       " '파이썬 R',\n",
       " '파이썬 교재',\n",
       " '파이썬 주식']"
      ]
     },
     "execution_count": 3,
     "metadata": {},
     "output_type": "execute_result"
    }
   ],
   "source": [
    "[\n",
    "    related_keyword_element.text\n",
    "    for related_keyword_element\n",
    "    in dom.select(\".wsn\")\n",
    "]"
   ]
  },
  {
   "cell_type": "markdown",
   "metadata": {},
   "source": [
    "### 동적 사이트 : https://www.yogiyo.co.kr/                                                 \n",
    "- 서구 계룡로 636\n",
    "- 음식점 리스트 크롤링\n",
    "- 새로고침하면 빙글빙글 ... 돌면서 서버로 부터 데이터를 불러오는 동적 사이트 이다.\n",
    "- 개발자 도구 > 네트워크 탭 > 새로고침 > ?item=60&alt = ~~~~~ 주소는 \n",
    "- https://www.yogiyo.co.kr/api/v1/restaurants-geo/?items=60&lat=36.3385369684327&lng=127.392457108024&order=rank&page=1&search="
   ]
  },
  {
   "cell_type": "code",
   "execution_count": 7,
   "metadata": {},
   "outputs": [],
   "source": [
    "url = \"https://www.yogiyo.co.kr/api/v1/restaurants-geo/?items=60&lat=36.3385369684327&lng=127.392457108024&order=rank&page=1&search=\"\n",
    "headers = {\n",
    "    \"x-apikey\": \"iphoneap\",\n",
    "    \"x-apisecret\" : \"fe5183cc3dea12bd0ce299cf110a75a2\"\n",
    "}\n",
    "\n",
    "res = requests.get(url,headers=headers)\n",
    "yogiyo = res.json()\n",
    "# yogiyo\n",
    "\n"
   ]
  },
  {
   "cell_type": "code",
   "execution_count": 5,
   "metadata": {},
   "outputs": [
    {
     "data": {
      "text/plain": [
       "['푸라닭-대전괴정점',\n",
       " '신사천성사천냉면',\n",
       " '피자마켓-대전서구점',\n",
       " 'BBQ-대전탄방행운점',\n",
       " '코리엔탈깻잎두마리치킨-둔산점',\n",
       " '더바스켓-둔산점',\n",
       " '혼밥대왕-서구점',\n",
       " '바른초밥-동구점',\n",
       " '유로코피자-대전서구점',\n",
       " '청춘회포차',\n",
       " '인로코카페',\n",
       " '불닭발땡초동대문엽기떡볶이-태평점',\n",
       " '심야회',\n",
       " 'BHC-대전괴정점',\n",
       " '24시오후청',\n",
       " '달토끼의떡볶이흡입구역-태평점',\n",
       " '푸라닭-대전탄방점',\n",
       " 'BHC-가장내동점',\n",
       " '네네치킨-가장내동점',\n",
       " '상하이마라탕',\n",
       " '만년닭강정-둔산직영점',\n",
       " '떼루아파스타',\n",
       " '피자헛-대전탄방점',\n",
       " '맘스터치-대전둔산점',\n",
       " '카페수다',\n",
       " '설빙-대전시청점',\n",
       " '죠스떡볶이-대전오류점',\n",
       " '네오피자-대전서구점',\n",
       " '응급실국물떡볶이-탄방점',\n",
       " '역전우동0410-대전탄방역점',\n",
       " '이비가짬뽕-시청점',\n",
       " '15000족발-월평점',\n",
       " '태원중화요리',\n",
       " '맘스터치-대전탄방점',\n",
       " '바르다김선생-괴정점',\n",
       " '버거킹-대전용문역점',\n",
       " '응급실국물떡볶이-대전둔산점',\n",
       " '어장관리',\n",
       " '항아리보쌈-괴정한민점',\n",
       " '빅스타피자-대전탄방점',\n",
       " '신전떡볶이-배재대점',\n",
       " '바르다김선생-대전시청점',\n",
       " '큰맘할매순대국-배재대점',\n",
       " '모락모락MORAKMORAK',\n",
       " '쫄면주는삼겹본능-대전갈마점',\n",
       " '굽네치킨&피자-둔산1호점',\n",
       " '멕시카나-롯데괴정점',\n",
       " '스쿨푸드-대전시청점',\n",
       " '롯데리아-대전중촌점',\n",
       " '맘스터치-대전태평점',\n",
       " '다락마을-스테이크&파스타',\n",
       " '롯데리아-홈플러스대전탄방점',\n",
       " '고기랑냉면&고기떡볶이',\n",
       " '행복돈카츠-본점',\n",
       " '위치커피-탄방점',\n",
       " '미세노센세-둔산점',\n",
       " '베이징-태평점',\n",
       " '신가네매운떡볶이-괴정점',\n",
       " '차이나유-내동',\n",
       " '청년피자-대전서구점']"
      ]
     },
     "execution_count": 5,
     "metadata": {},
     "output_type": "execute_result"
    }
   ],
   "source": [
    "[\n",
    "    restaurant.get(\"name\")\n",
    "    for restaurant\n",
    "    in yogiyo.get(\"restaurants\")\n",
    "]"
   ]
  },
  {
   "cell_type": "markdown",
   "metadata": {},
   "source": [
    "### Q1 : naver blog 에서 검색어 \"파이썬\"으로 검색된 주소와 타이틀을 추출하시오.\n",
    "    "
   ]
  },
  {
   "cell_type": "code",
   "execution_count": 6,
   "metadata": {},
   "outputs": [
    {
     "name": "stdout",
     "output_type": "stream",
     "text": [
      "파이썬(Phython)이 스타트업에게 인기있는 이유 7가지\n",
      "http://blog.wishket.com/%ED%8C%8C%EC%9D%B4%EC%8D%ACpython%EC%9D%B4-%EC%8A%A4%ED%83%80%ED%8A%B8%EC%97%85%EC%97%90%EA%B2%8C-%EC%9D%B8%EA%B8%B0%EC%9E%88%EB%8A%94-%EC%9D%B4%EC%9C%A0-7%EA%B0%80%EC%A7%80/\n",
      "파이썬 학원 중요시 여겨야할 부분!\n",
      "https://blog.naver.com/sujung1540/222124538409\n",
      "파이썬, R이 필요 없는 비전공자를 위한 데이터 분석 최적화 프로그램을 소개합니다.\n",
      "https://post.naver.com/viewer/postView.nhn?volumeNo=29326023&memberNo=607398&vType=VERTICAL\n",
      "파이썬(Python) - 아나콘다(Anaconda) 설치하기 - 윈도우편\n",
      "https://blog.naver.com/chandong83/222128977072\n",
      "파이썬 학원 실력이 곧 스펙\n",
      "https://blog.naver.com/bayern/222123658846\n",
      "파이썬 웹 프로그래밍 Django로 입문\n",
      "https://blog.naver.com/urmyver/222079389364\n",
      "전주코딩학원에서 블록코딩 파이썬 C언어 C++ 함께 배워봐요\n",
      "https://blog.naver.com/stupid1714/222120011506\n",
      "요새 뜨는 코딩, 파이썬이란 무엇일까요?\n",
      "https://adcr.naver.com/adcr?x=SWYyv7f94flrXuFefxD2VP///w==kfg0LGwUI/uAgFx0z+i6Uf/KROTpwK7pH16zQJPy8Um1i0OTyeBznGAAcCm04GC+TmRD3RgPZfxaBwNMANEe3TuSlPcHbHzflyoeEfyVbObmsdk+HcrcsgLTFoWJJLxPkxhdVha8UfLE61K5g6KApidSnFHRi+kBpT0WUgt6hIbHasyzId9hgaFGF+wLXRm0SzOOHDW4gqP8KcwaqkWU1mBcQtAO0NtKhZdk7VhZSHRPjo62BnTnxMiwnkUG4HRIxSLfAkxQyD3KFOoulzBdV2fbSCDt3UNAjQBbIM/k2Fc7oTwL49PIHPyj7n6qbg3GlSrCk4kau+ptuP/0rk/cKeJyAPLanI/gDyAJmWFUYAOEk3QyWKJ+zkxbqforVddJPS2P/fdIVtAdBO6pEOXo5RHo7T4n6DAbGwnc4Y3Aa3icHo8AEp1gf2k0zn3vH4O1sInO1jEWeW9gKJuXicB+3ykzwmH/FQbEigUAUenT3IrUJ5qwDq01vOeuFIg4OWMQQUNtT/4y8Q2quuhIYTAm5qodYHacXihQs8F9NMyqyYtj9JO8DXFP1aKnXTP+bAG1iCFgsy9c5PTv2reaueKcjYw==\n",
      "학원에서 코딩배우기! c언어,파이썬,자바 뭐부터?\n",
      "https://adcr.naver.com/adcr?x=J2skkx4vzCeudiMTKBZJWf///w==kQ4P8d1UemV85o8U0Winzv+W+PWoMJifsdFHG8yUu5rd56IX/wAIeQNLgg+oqL4JpmRcPLO5119V7RGLOtrzbdLI941+XZzCKhOxZmF3MQgtzUgDm4WqvnunceuN2srsQpKr22Mvm9aqjMBBlyCRVTD9lhTXsXfWab0EakXJRU43wTWwz4MvmdKVRFDakBovu5fvTgzMu+04hwmQx13GKycEFLIstjwytQpBXpnsPa9NpfULqQwA+QZ1jCG4b5ej+LkLne8AsJoGMa6YK1+XD80oLWeEzN3Wu635FYorHDvU5BKY1z548021sdIBR8q2LtpUy0jvaWG7s7iqWoIrYPnVYCVGzGzwl2+MQOCzC9DTYIQ0dbuyNkEXpJpVgE42PesP+PaTOC4lR0F7+lV8bOeakf/EQLmFmHala3uXLBVE1vwxzPIIAdncV3e2rMyjhxvOqOQpf2qNzZKZDgVB86IKjjvHs64btdPH0Pt/Ud3hnBJ24+b6b3J6VCMthaecZfVgmq1ZXMYL+TeRaYiGx4MGeNJUnWclfJS1SBYISc7Em9k3xm/hWCBCJArORY6C0\n"
     ]
    }
   ],
   "source": [
    "import requests\n",
    "from bs4 import BeautifulSoup\n",
    "response = requests.get(\"https://search.naver.com/search.naver?where=nexearch&sm=top_hty&fbm=1&ie=utf8&query=%ED%8C%8C%EC%9D%B4%EC%8D%AC\")\n",
    "dom = BeautifulSoup(response.text, \"html.parser\")\n",
    "# dom\n",
    "dom\n",
    "\n",
    "post_elements = dom.select(\"div._panel[data-index=topic0] > ul.lst_total._list_base > li.bx._svp_item \")\n",
    "#print(post_element)\n",
    "for post_element in post_elements:\n",
    "    title_element = post_element.select_one(\"div.total_wrap.api_ani_send > a.api_txt_lines.total_tit\")\n",
    "    title = title_element.text\n",
    "    url = title_element.attrs.get(\"href\")\n",
    "    print(title)\n",
    "    print(url)\n",
    "\n",
    " \n"
   ]
  }
 ],
 "metadata": {
  "kernelspec": {
   "display_name": "Python 3.8.5 64-bit",
   "language": "python",
   "name": "python38564bit75270fb3cc1c47ada2f48f4e9a6cb1db"
  },
  "language_info": {
   "codemirror_mode": {
    "name": "ipython",
    "version": 3
   },
   "file_extension": ".py",
   "mimetype": "text/x-python",
   "name": "python",
   "nbconvert_exporter": "python",
   "pygments_lexer": "ipython3",
   "version": "3.8.6"
  }
 },
 "nbformat": 4,
 "nbformat_minor": 4
}

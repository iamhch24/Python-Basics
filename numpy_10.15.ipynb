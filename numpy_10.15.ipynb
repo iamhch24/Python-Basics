{
 "cells": [
  {
   "cell_type": "code",
   "execution_count": 2,
   "metadata": {},
   "outputs": [
    {
     "data": {
      "text/plain": [
       "array([[ 2,  4,  6],\n",
       "       [ 8, 10, 12],\n",
       "       [14, 16, 18]])"
      ]
     },
     "execution_count": 2,
     "metadata": {},
     "output_type": "execute_result"
    }
   ],
   "source": [
    "import numpy as np\n",
    "x1 = np.arange(1,10).reshape((3,3))\n",
    "x2 = np.arange(1,10).reshape((3,3))\n",
    "x1+x2"
   ]
  },
  {
   "cell_type": "code",
   "execution_count": 4,
   "metadata": {},
   "outputs": [
    {
     "data": {
      "text/plain": [
       "array([[ 1,  4,  9],\n",
       "       [16, 25, 36],\n",
       "       [49, 64, 81]])"
      ]
     },
     "execution_count": 4,
     "metadata": {},
     "output_type": "execute_result"
    }
   ],
   "source": [
    "x1*x2"
   ]
  },
  {
   "cell_type": "code",
   "execution_count": null,
   "metadata": {},
   "outputs": [],
   "source": []
  },
  {
   "cell_type": "code",
   "execution_count": 7,
   "metadata": {},
   "outputs": [
    {
     "ename": "ValueError",
     "evalue": "operands could not be broadcast together with shapes (2,3) (3,2) ",
     "output_type": "error",
     "traceback": [
      "\u001b[1;31m---------------------------------------------------------------------------\u001b[0m",
      "\u001b[1;31mValueError\u001b[0m                                Traceback (most recent call last)",
      "\u001b[1;32m<ipython-input-7-43a0debbf39b>\u001b[0m in \u001b[0;36m<module>\u001b[1;34m\u001b[0m\n\u001b[0;32m      2\u001b[0m \u001b[0ma\u001b[0m \u001b[1;33m=\u001b[0m \u001b[0mnp\u001b[0m\u001b[1;33m.\u001b[0m\u001b[0marange\u001b[0m\u001b[1;33m(\u001b[0m\u001b[1;36m1\u001b[0m\u001b[1;33m,\u001b[0m\u001b[1;36m7\u001b[0m\u001b[1;33m)\u001b[0m\u001b[1;33m.\u001b[0m\u001b[0mreshape\u001b[0m\u001b[1;33m(\u001b[0m\u001b[1;33m(\u001b[0m\u001b[1;36m2\u001b[0m\u001b[1;33m,\u001b[0m\u001b[1;36m3\u001b[0m\u001b[1;33m)\u001b[0m\u001b[1;33m)\u001b[0m\u001b[1;33m\u001b[0m\u001b[1;33m\u001b[0m\u001b[0m\n\u001b[0;32m      3\u001b[0m \u001b[0mb\u001b[0m \u001b[1;33m=\u001b[0m \u001b[0mnp\u001b[0m\u001b[1;33m.\u001b[0m\u001b[0marange\u001b[0m\u001b[1;33m(\u001b[0m\u001b[1;36m7\u001b[0m\u001b[1;33m,\u001b[0m\u001b[1;36m13\u001b[0m\u001b[1;33m)\u001b[0m\u001b[1;33m.\u001b[0m\u001b[0mreshape\u001b[0m\u001b[1;33m(\u001b[0m\u001b[1;33m(\u001b[0m\u001b[1;36m3\u001b[0m\u001b[1;33m,\u001b[0m\u001b[1;36m2\u001b[0m\u001b[1;33m)\u001b[0m\u001b[1;33m)\u001b[0m\u001b[1;33m\u001b[0m\u001b[1;33m\u001b[0m\u001b[0m\n\u001b[1;32m----> 4\u001b[1;33m \u001b[0ma\u001b[0m \u001b[1;33m+\u001b[0m \u001b[0mb\u001b[0m\u001b[1;33m\u001b[0m\u001b[1;33m\u001b[0m\u001b[0m\n\u001b[0m",
      "\u001b[1;31mValueError\u001b[0m: operands could not be broadcast together with shapes (2,3) (3,2) "
     ]
    }
   ],
   "source": [
    "import numpy as np\n",
    "a = np.arange(1,7).reshape((2,3))\n",
    "b = np.arange(7,13).reshape((3,2))\n",
    "a.dot(b)"
   ]
  },
  {
   "cell_type": "code",
   "execution_count": 21,
   "metadata": {},
   "outputs": [
    {
     "data": {
      "text/plain": [
       "array([[10, 11, 12],\n",
       "       [11, 12, 13],\n",
       "       [12, 13, 14]])"
      ]
     },
     "execution_count": 21,
     "metadata": {},
     "output_type": "execute_result"
    }
   ],
   "source": [
    "a = np.array([0,1,2]).reshape(-1,1)\n",
    "b = np.array([0,1,2])\n",
    "a + b + 10"
   ]
  },
  {
   "cell_type": "code",
   "execution_count": 37,
   "metadata": {},
   "outputs": [
    {
     "data": {
      "text/plain": [
       "<Figure size 432x288 with 0 Axes>"
      ]
     },
     "metadata": {},
     "output_type": "display_data"
    }
   ],
   "source": [
    "import matplotlib.pyplot as plt\n",
    "\n",
    "x = np.linspace(-5,5,101)\n",
    "y = x\n",
    "y_sin = np.sin(x)\n",
    "y_cos = np.cos(x)\n",
    "\n",
    "fig = plt.figure()\n",
    "\n",
    "# ax = fig.add_subplot(111)\n",
    "\n",
    "# ax.plot (x, y, label='y=x')\n",
    "# ax.plot (x, y_sin, label='y=sin(x)')\n",
    "# ax.plot (x, y_cos, label='y=cos(x)')\n",
    "\n",
    "# ax.legend()\n",
    "plt.show()\n"
   ]
  },
  {
   "cell_type": "code",
   "execution_count": 34,
   "metadata": {},
   "outputs": [
    {
     "name": "stdout",
     "output_type": "stream",
     "text": [
      "    order                    name  height(cm)\n",
      "0       1       George Washington         189\n",
      "1       2              John Adams         170\n",
      "2       3        Thomas Jefferson         189\n",
      "3       4           James Madison         163\n",
      "4       5            James Monroe         183\n",
      "5       6       John Quincy Adams         171\n",
      "6       7          Andrew Jackson         185\n",
      "7       8        Martin Van Buren         168\n",
      "8       9  William Henry Harrison         173\n",
      "9      10              John Tyler         183\n",
      "10     11           James K. Polk         173\n",
      "11     12          Zachary Taylor         173\n",
      "12     13        Millard Fillmore         175\n",
      "13     14         Franklin Pierce         178\n",
      "14     15          James Buchanan         183\n",
      "15     16         Abraham Lincoln         193\n",
      "16     17          Andrew Johnson         178\n",
      "17     18        Ulysses S. Grant         173\n",
      "18     19     Rutherford B. Hayes         174\n",
      "19     20       James A. Garfield         183\n",
      "20     21       Chester A. Arthur         183\n",
      "21     23       Benjamin Harrison         168\n",
      "22     25        William McKinley         170\n",
      "23     26      Theodore Roosevelt         178\n",
      "24     27     William Howard Taft         182\n",
      "25     28          Woodrow Wilson         180\n",
      "26     29       Warren G. Harding         183\n",
      "27     30         Calvin Coolidge         178\n",
      "28     31          Herbert Hoover         182\n",
      "29     32   Franklin D. Roosevelt         188\n",
      "30     33         Harry S. Truman         175\n",
      "31     34    Dwight D. Eisenhower         179\n",
      "32     35         John F. Kennedy         183\n",
      "33     36       Lyndon B. Johnson         193\n",
      "34     37           Richard Nixon         182\n",
      "35     38             Gerald Ford         183\n",
      "36     39            Jimmy Carter         177\n",
      "37     40           Ronald Reagan         185\n",
      "38     41       George H. W. Bush         188\n",
      "39     42            Bill Clinton         188\n",
      "40     43          George W. Bush         182\n",
      "41     44            Barack Obama         185\n",
      "height: [189 170 189 163 183 171 185 168 173 183 173 173 175 178 183 193 178 173\n",
      " 174 183 183 168 170 178 182 180 183 178 182 188 175 179 183 193 182 183\n",
      " 177 185 188 188 182 185]\n",
      "height.mean(): 179.73809523809524\n",
      "height.std(): 6.931843442745892\n",
      "height.min(): 163\n",
      "height.max(): 193\n",
      "np.percentile(height,25): 174.25\n",
      "np.percentile(height,75): 183.0\n",
      "np.median(height): 182.0\n"
     ]
    }
   ],
   "source": [
    "import pandas as pd\n",
    "\n",
    "data = pd.read_csv('president_heights.csv')\n",
    "height = np.array( data['height(cm)'])\n",
    "print(data)\n",
    "print(\"height:\",height)\n",
    "\n",
    "print(\"height.mean():\", height.mean() )\n",
    "print(\"height.std():\", height.std() )\n",
    "print(\"height.min():\", height.min() )\n",
    "print(\"height.max():\", height.max() )\n",
    "print(\"np.percentile(height,25):\", np.percentile(height,25) )\n",
    "print(\"np.percentile(height,75):\", np.percentile(height,75) )\n",
    "print(\"np.median(height):\", np.median(height) )\n",
    "\n",
    "\n",
    "\n",
    "\n"
   ]
  },
  {
   "cell_type": "code",
   "execution_count": 35,
   "metadata": {},
   "outputs": [
    {
     "data": {
      "text/plain": [
       "Text(0, 0.5, 'number')"
      ]
     },
     "execution_count": 35,
     "metadata": {},
     "output_type": "execute_result"
    },
    {
     "data": {
      "image/png": "[encoded data removed]",
      "text/plain": [
       "<Figure size 432x288 with 1 Axes>"
      ]
     },
     "metadata": {
      "needs_background": "light"
     },
     "output_type": "display_data"
    }
   ],
   "source": [
    "import matplotlib.pyplot as plt\n",
    "\n",
    "plt.hist(height)\n",
    "plt.title(\"US president\")\n",
    "plt.xlabel(\"height(cm)\")\n",
    "plt.ylabel(\"number\")\n"
   ]
  },
  {
   "cell_type": "code",
   "execution_count": 42,
   "metadata": {},
   "outputs": [
    {
     "data": {
      "text/plain": [
       "(True, False)"
      ]
     },
     "execution_count": 42,
     "metadata": {},
     "output_type": "execute_result"
    }
   ],
   "source": [
    "import numpy as np\n",
    "x = np.arange(10)\n",
    "x\n",
    "np.any(x<5), np.any(x<0)"
   ]
  },
  {
   "cell_type": "code",
   "execution_count": 44,
   "metadata": {},
   "outputs": [
    {
     "data": {
      "text/plain": [
       "(False, True)"
      ]
     },
     "execution_count": 44,
     "metadata": {},
     "output_type": "execute_result"
    }
   ],
   "source": [
    "np.all(x>5), np.all(x<10)"
   ]
  },
  {
   "cell_type": "code",
   "execution_count": 50,
   "metadata": {},
   "outputs": [
    {
     "data": {
      "text/plain": [
       "False"
      ]
     },
     "execution_count": 50,
     "metadata": {},
     "output_type": "execute_result"
    }
   ],
   "source": [
    "a = np.array([1,1,2,1,3])\n",
    "b = np.array([1,2,2,4,3])\n",
    "(a>b).any()\n"
   ]
  },
  {
   "cell_type": "code",
   "execution_count": 64,
   "metadata": {},
   "outputs": [
    {
     "data": {
      "text/plain": [
       "(array([[2, 8, 8, 6, 9],\n",
       "        [6, 1, 0, 7, 0]]),\n",
       " array([1, 3], dtype=int64))"
      ]
     },
     "execution_count": 64,
     "metadata": {},
     "output_type": "execute_result"
    }
   ],
   "source": [
    "a = np.random.randint(0,10,10)\n",
    "b = a.reshape(2,5)\n",
    "a, a>5,  np.count_nonzero(a>5), np.nonzero(a>5)\n",
    "b, np.count_nonzero(b<5, axis=1)"
   ]
  },
  {
   "cell_type": "code",
   "execution_count": 57,
   "metadata": {},
   "outputs": [
    {
     "data": {
      "text/plain": [
       "(array([ 4,  7, 10]), array([ 4,  7, 10]))"
      ]
     },
     "execution_count": 57,
     "metadata": {},
     "output_type": "execute_result"
    }
   ],
   "source": [
    "a = np.array([1,2,3,4,5,6,7,8,9,10])\n",
    "b = np.array([3,6,9])\n",
    "a[b], a.take(b)"
   ]
  },
  {
   "cell_type": "code",
   "execution_count": 62,
   "metadata": {},
   "outputs": [
    {
     "data": {
      "text/plain": [
       "(array([ 2,  5, 11]), array([2, 1, 3]))"
      ]
     },
     "execution_count": 62,
     "metadata": {},
     "output_type": "execute_result"
    }
   ],
   "source": [
    "x = np.arange(12).reshape(3,4)\n",
    "row = np.array([0,1,2])\n",
    "col = np.array([2,1,3])\n",
    "x[row,col], x[row[0],col]"
   ]
  },
  {
   "cell_type": "code",
   "execution_count": 65,
   "metadata": {},
   "outputs": [
    {
     "data": {
      "text/plain": [
       "<AxesSubplot:>"
      ]
     },
     "execution_count": 65,
     "metadata": {},
     "output_type": "execute_result"
    },
    {
     "data": {
      "image/png": "[encoded data removed]",
      "text/plain": [
       "<Figure size 432x288 with 1 Axes>"
      ]
     },
     "metadata": {
      "needs_background": "light"
     },
     "output_type": "display_data"
    }
   ],
   "source": [
    "import numpy as np\n",
    "import pandas as pd\n",
    "\n",
    "logx = np.logspace(0,1,100)\n",
    "linex = np.linspace(0,10,100)\n",
    "\n",
    "df = pd.DataFrame()\n",
    "df['logspace'] = logx\n",
    "df['linespace'] = linex\n",
    "df.head()\n",
    "df.plot()"
   ]
  },
  {
   "cell_type": "code",
   "execution_count": 66,
   "metadata": {},
   "outputs": [
    {
     "name": "stdout",
     "output_type": "stream",
     "text": [
      "Writing sample1.csv\n"
     ]
    }
   ],
   "source": [
    "%%writefile sample1.csv # 텍스트 파일쓰기\n",
    "c1, c2, c3\n",
    "1, 1.11, one\n",
    "2, 2.22, two\n",
    "3, 3.33, three"
   ]
  },
  {
   "cell_type": "code",
   "execution_count": 67,
   "metadata": {},
   "outputs": [
    {
     "data": {
      "text/html": [
       "<div>\n",
       "<style scoped>\n",
       "    .dataframe tbody tr th:only-of-type {\n",
       "        vertical-align: middle;\n",
       "    }\n",
       "\n",
       "    .dataframe tbody tr th {\n",
       "        vertical-align: top;\n",
       "    }\n",
       "\n",
       "    .dataframe thead th {\n",
       "        text-align: right;\n",
       "    }\n",
       "</style>\n",
       "<table border=\"1\" class=\"dataframe\">\n",
       "  <thead>\n",
       "    <tr style=\"text-align: right;\">\n",
       "      <th></th>\n",
       "      <th>c1</th>\n",
       "      <th>c2</th>\n",
       "      <th>c3</th>\n",
       "    </tr>\n",
       "  </thead>\n",
       "  <tbody>\n",
       "    <tr>\n",
       "      <th>0</th>\n",
       "      <td>1</td>\n",
       "      <td>1.11</td>\n",
       "      <td>one</td>\n",
       "    </tr>\n",
       "    <tr>\n",
       "      <th>1</th>\n",
       "      <td>2</td>\n",
       "      <td>2.22</td>\n",
       "      <td>two</td>\n",
       "    </tr>\n",
       "    <tr>\n",
       "      <th>2</th>\n",
       "      <td>3</td>\n",
       "      <td>3.33</td>\n",
       "      <td>three</td>\n",
       "    </tr>\n",
       "  </tbody>\n",
       "</table>\n",
       "</div>"
      ],
      "text/plain": [
       "   c1    c2      c3\n",
       "0   1  1.11     one\n",
       "1   2  2.22     two\n",
       "2   3  3.33   three"
      ]
     },
     "execution_count": 67,
     "metadata": {},
     "output_type": "execute_result"
    }
   ],
   "source": [
    "import pandas as pd\n",
    "pd.read_csv('sample1.csv')"
   ]
  },
  {
   "cell_type": "code",
   "execution_count": 71,
   "metadata": {},
   "outputs": [
    {
     "data": {
      "text/html": [
       "<div>\n",
       "<style scoped>\n",
       "    .dataframe tbody tr th:only-of-type {\n",
       "        vertical-align: middle;\n",
       "    }\n",
       "\n",
       "    .dataframe tbody tr th {\n",
       "        vertical-align: top;\n",
       "    }\n",
       "\n",
       "    .dataframe thead th {\n",
       "        text-align: right;\n",
       "    }\n",
       "</style>\n",
       "<table border=\"1\" class=\"dataframe\">\n",
       "  <thead>\n",
       "    <tr style=\"text-align: right;\">\n",
       "      <th></th>\n",
       "      <th>0</th>\n",
       "      <th>1</th>\n",
       "      <th>2</th>\n",
       "      <th>3</th>\n",
       "      <th>4</th>\n",
       "      <th>5</th>\n",
       "      <th>6</th>\n",
       "      <th>7</th>\n",
       "      <th>8</th>\n",
       "      <th>9</th>\n",
       "      <th>10</th>\n",
       "      <th>11</th>\n",
       "      <th>12</th>\n",
       "      <th>13</th>\n",
       "    </tr>\n",
       "  </thead>\n",
       "  <tbody>\n",
       "    <tr>\n",
       "      <th>0</th>\n",
       "      <td>0.00632</td>\n",
       "      <td>18.0</td>\n",
       "      <td>2.31</td>\n",
       "      <td>0</td>\n",
       "      <td>0.538</td>\n",
       "      <td>6.575</td>\n",
       "      <td>65.2</td>\n",
       "      <td>4.0900</td>\n",
       "      <td>1</td>\n",
       "      <td>296.0</td>\n",
       "      <td>15.3</td>\n",
       "      <td>396.90</td>\n",
       "      <td>4.98</td>\n",
       "      <td>24.0</td>\n",
       "    </tr>\n",
       "    <tr>\n",
       "      <th>1</th>\n",
       "      <td>0.02731</td>\n",
       "      <td>0.0</td>\n",
       "      <td>7.07</td>\n",
       "      <td>0</td>\n",
       "      <td>0.469</td>\n",
       "      <td>6.421</td>\n",
       "      <td>78.9</td>\n",
       "      <td>4.9671</td>\n",
       "      <td>2</td>\n",
       "      <td>242.0</td>\n",
       "      <td>17.8</td>\n",
       "      <td>396.90</td>\n",
       "      <td>9.14</td>\n",
       "      <td>21.6</td>\n",
       "    </tr>\n",
       "    <tr>\n",
       "      <th>2</th>\n",
       "      <td>0.02729</td>\n",
       "      <td>0.0</td>\n",
       "      <td>7.07</td>\n",
       "      <td>0</td>\n",
       "      <td>0.469</td>\n",
       "      <td>7.185</td>\n",
       "      <td>61.1</td>\n",
       "      <td>4.9671</td>\n",
       "      <td>2</td>\n",
       "      <td>242.0</td>\n",
       "      <td>17.8</td>\n",
       "      <td>392.83</td>\n",
       "      <td>4.03</td>\n",
       "      <td>34.7</td>\n",
       "    </tr>\n",
       "    <tr>\n",
       "      <th>3</th>\n",
       "      <td>0.03237</td>\n",
       "      <td>0.0</td>\n",
       "      <td>2.18</td>\n",
       "      <td>0</td>\n",
       "      <td>0.458</td>\n",
       "      <td>6.998</td>\n",
       "      <td>45.8</td>\n",
       "      <td>6.0622</td>\n",
       "      <td>3</td>\n",
       "      <td>222.0</td>\n",
       "      <td>18.7</td>\n",
       "      <td>394.63</td>\n",
       "      <td>2.94</td>\n",
       "      <td>33.4</td>\n",
       "    </tr>\n",
       "    <tr>\n",
       "      <th>4</th>\n",
       "      <td>0.06905</td>\n",
       "      <td>0.0</td>\n",
       "      <td>2.18</td>\n",
       "      <td>0</td>\n",
       "      <td>0.458</td>\n",
       "      <td>7.147</td>\n",
       "      <td>54.2</td>\n",
       "      <td>6.0622</td>\n",
       "      <td>3</td>\n",
       "      <td>222.0</td>\n",
       "      <td>18.7</td>\n",
       "      <td>396.90</td>\n",
       "      <td>5.33</td>\n",
       "      <td>36.2</td>\n",
       "    </tr>\n",
       "    <tr>\n",
       "      <th>...</th>\n",
       "      <td>...</td>\n",
       "      <td>...</td>\n",
       "      <td>...</td>\n",
       "      <td>...</td>\n",
       "      <td>...</td>\n",
       "      <td>...</td>\n",
       "      <td>...</td>\n",
       "      <td>...</td>\n",
       "      <td>...</td>\n",
       "      <td>...</td>\n",
       "      <td>...</td>\n",
       "      <td>...</td>\n",
       "      <td>...</td>\n",
       "      <td>...</td>\n",
       "    </tr>\n",
       "    <tr>\n",
       "      <th>501</th>\n",
       "      <td>0.06263</td>\n",
       "      <td>0.0</td>\n",
       "      <td>11.93</td>\n",
       "      <td>0</td>\n",
       "      <td>0.573</td>\n",
       "      <td>6.593</td>\n",
       "      <td>69.1</td>\n",
       "      <td>2.4786</td>\n",
       "      <td>1</td>\n",
       "      <td>273.0</td>\n",
       "      <td>21.0</td>\n",
       "      <td>391.99</td>\n",
       "      <td>9.67</td>\n",
       "      <td>22.4</td>\n",
       "    </tr>\n",
       "    <tr>\n",
       "      <th>502</th>\n",
       "      <td>0.04527</td>\n",
       "      <td>0.0</td>\n",
       "      <td>11.93</td>\n",
       "      <td>0</td>\n",
       "      <td>0.573</td>\n",
       "      <td>6.120</td>\n",
       "      <td>76.7</td>\n",
       "      <td>2.2875</td>\n",
       "      <td>1</td>\n",
       "      <td>273.0</td>\n",
       "      <td>21.0</td>\n",
       "      <td>396.90</td>\n",
       "      <td>9.08</td>\n",
       "      <td>20.6</td>\n",
       "    </tr>\n",
       "    <tr>\n",
       "      <th>503</th>\n",
       "      <td>0.06076</td>\n",
       "      <td>0.0</td>\n",
       "      <td>11.93</td>\n",
       "      <td>0</td>\n",
       "      <td>0.573</td>\n",
       "      <td>6.976</td>\n",
       "      <td>91.0</td>\n",
       "      <td>2.1675</td>\n",
       "      <td>1</td>\n",
       "      <td>273.0</td>\n",
       "      <td>21.0</td>\n",
       "      <td>396.90</td>\n",
       "      <td>5.64</td>\n",
       "      <td>23.9</td>\n",
       "    </tr>\n",
       "    <tr>\n",
       "      <th>504</th>\n",
       "      <td>0.10959</td>\n",
       "      <td>0.0</td>\n",
       "      <td>11.93</td>\n",
       "      <td>0</td>\n",
       "      <td>0.573</td>\n",
       "      <td>6.794</td>\n",
       "      <td>89.3</td>\n",
       "      <td>2.3889</td>\n",
       "      <td>1</td>\n",
       "      <td>273.0</td>\n",
       "      <td>21.0</td>\n",
       "      <td>393.45</td>\n",
       "      <td>6.48</td>\n",
       "      <td>22.0</td>\n",
       "    </tr>\n",
       "    <tr>\n",
       "      <th>505</th>\n",
       "      <td>0.04741</td>\n",
       "      <td>0.0</td>\n",
       "      <td>11.93</td>\n",
       "      <td>0</td>\n",
       "      <td>0.573</td>\n",
       "      <td>6.030</td>\n",
       "      <td>80.8</td>\n",
       "      <td>2.5050</td>\n",
       "      <td>1</td>\n",
       "      <td>273.0</td>\n",
       "      <td>21.0</td>\n",
       "      <td>396.90</td>\n",
       "      <td>7.88</td>\n",
       "      <td>11.9</td>\n",
       "    </tr>\n",
       "  </tbody>\n",
       "</table>\n",
       "<p>506 rows × 14 columns</p>\n",
       "</div>"
      ],
      "text/plain": [
       "          0     1      2   3      4      5     6       7   8      9     10  \\\n",
       "0    0.00632  18.0   2.31   0  0.538  6.575  65.2  4.0900   1  296.0  15.3   \n",
       "1    0.02731   0.0   7.07   0  0.469  6.421  78.9  4.9671   2  242.0  17.8   \n",
       "2    0.02729   0.0   7.07   0  0.469  7.185  61.1  4.9671   2  242.0  17.8   \n",
       "3    0.03237   0.0   2.18   0  0.458  6.998  45.8  6.0622   3  222.0  18.7   \n",
       "4    0.06905   0.0   2.18   0  0.458  7.147  54.2  6.0622   3  222.0  18.7   \n",
       "..       ...   ...    ...  ..    ...    ...   ...     ...  ..    ...   ...   \n",
       "501  0.06263   0.0  11.93   0  0.573  6.593  69.1  2.4786   1  273.0  21.0   \n",
       "502  0.04527   0.0  11.93   0  0.573  6.120  76.7  2.2875   1  273.0  21.0   \n",
       "503  0.06076   0.0  11.93   0  0.573  6.976  91.0  2.1675   1  273.0  21.0   \n",
       "504  0.10959   0.0  11.93   0  0.573  6.794  89.3  2.3889   1  273.0  21.0   \n",
       "505  0.04741   0.0  11.93   0  0.573  6.030  80.8  2.5050   1  273.0  21.0   \n",
       "\n",
       "         11    12    13  \n",
       "0    396.90  4.98  24.0  \n",
       "1    396.90  9.14  21.6  \n",
       "2    392.83  4.03  34.7  \n",
       "3    394.63  2.94  33.4  \n",
       "4    396.90  5.33  36.2  \n",
       "..      ...   ...   ...  \n",
       "501  391.99  9.67  22.4  \n",
       "502  396.90  9.08  20.6  \n",
       "503  396.90  5.64  23.9  \n",
       "504  393.45  6.48  22.0  \n",
       "505  396.90  7.88  11.9  \n",
       "\n",
       "[506 rows x 14 columns]"
      ]
     },
     "execution_count": 71,
     "metadata": {},
     "output_type": "execute_result"
    }
   ],
   "source": [
    "data_url = 'https://archive.ics.uci.edu/ml/machine-learning-databases/housing/housing.data'\n",
    "df_data = pd.read_csv(data_url, sep='\\s+', header = None)\n",
    "df_data"
   ]
  },
  {
   "cell_type": "code",
   "execution_count": 79,
   "metadata": {},
   "outputs": [
    {
     "data": {
      "text/html": [
       "<div>\n",
       "<style scoped>\n",
       "    .dataframe tbody tr th:only-of-type {\n",
       "        vertical-align: middle;\n",
       "    }\n",
       "\n",
       "    .dataframe tbody tr th {\n",
       "        vertical-align: top;\n",
       "    }\n",
       "\n",
       "    .dataframe thead th {\n",
       "        text-align: right;\n",
       "    }\n",
       "</style>\n",
       "<table border=\"1\" class=\"dataframe\">\n",
       "  <thead>\n",
       "    <tr style=\"text-align: right;\">\n",
       "      <th></th>\n",
       "      <th>High</th>\n",
       "      <th>Low</th>\n",
       "      <th>Open</th>\n",
       "      <th>Close</th>\n",
       "      <th>Volume</th>\n",
       "      <th>Adj Close</th>\n",
       "    </tr>\n",
       "    <tr>\n",
       "      <th>Date</th>\n",
       "      <th></th>\n",
       "      <th></th>\n",
       "      <th></th>\n",
       "      <th></th>\n",
       "      <th></th>\n",
       "      <th></th>\n",
       "    </tr>\n",
       "  </thead>\n",
       "  <tbody>\n",
       "    <tr>\n",
       "      <th>2018-11-01</th>\n",
       "      <td>42950.0</td>\n",
       "      <td>42150.0</td>\n",
       "      <td>42450.0</td>\n",
       "      <td>42150.0</td>\n",
       "      <td>13423132.0</td>\n",
       "      <td>41760.921875</td>\n",
       "    </tr>\n",
       "    <tr>\n",
       "      <th>2018-11-02</th>\n",
       "      <td>44250.0</td>\n",
       "      <td>42800.0</td>\n",
       "      <td>43050.0</td>\n",
       "      <td>44150.0</td>\n",
       "      <td>16517112.0</td>\n",
       "      <td>43742.460938</td>\n",
       "    </tr>\n",
       "    <tr>\n",
       "      <th>2018-11-05</th>\n",
       "      <td>43800.0</td>\n",
       "      <td>42900.0</td>\n",
       "      <td>43750.0</td>\n",
       "      <td>43800.0</td>\n",
       "      <td>9426777.0</td>\n",
       "      <td>43395.691406</td>\n",
       "    </tr>\n",
       "    <tr>\n",
       "      <th>2018-11-06</th>\n",
       "      <td>43800.0</td>\n",
       "      <td>42950.0</td>\n",
       "      <td>43750.0</td>\n",
       "      <td>43750.0</td>\n",
       "      <td>7713625.0</td>\n",
       "      <td>43346.152344</td>\n",
       "    </tr>\n",
       "    <tr>\n",
       "      <th>2018-11-07</th>\n",
       "      <td>44500.0</td>\n",
       "      <td>43400.0</td>\n",
       "      <td>43600.0</td>\n",
       "      <td>44000.0</td>\n",
       "      <td>11553998.0</td>\n",
       "      <td>43593.843750</td>\n",
       "    </tr>\n",
       "    <tr>\n",
       "      <th>2018-11-08</th>\n",
       "      <td>45050.0</td>\n",
       "      <td>44050.0</td>\n",
       "      <td>44900.0</td>\n",
       "      <td>44050.0</td>\n",
       "      <td>12617397.0</td>\n",
       "      <td>43643.382812</td>\n",
       "    </tr>\n",
       "    <tr>\n",
       "      <th>2018-11-09</th>\n",
       "      <td>44850.0</td>\n",
       "      <td>43900.0</td>\n",
       "      <td>44450.0</td>\n",
       "      <td>44300.0</td>\n",
       "      <td>7318500.0</td>\n",
       "      <td>43891.074219</td>\n",
       "    </tr>\n",
       "    <tr>\n",
       "      <th>2018-11-12</th>\n",
       "      <td>45250.0</td>\n",
       "      <td>43700.0</td>\n",
       "      <td>43850.0</td>\n",
       "      <td>45200.0</td>\n",
       "      <td>8552566.0</td>\n",
       "      <td>44782.769531</td>\n",
       "    </tr>\n",
       "    <tr>\n",
       "      <th>2018-11-13</th>\n",
       "      <td>44500.0</td>\n",
       "      <td>43400.0</td>\n",
       "      <td>43900.0</td>\n",
       "      <td>44500.0</td>\n",
       "      <td>9311126.0</td>\n",
       "      <td>44089.230469</td>\n",
       "    </tr>\n",
       "    <tr>\n",
       "      <th>2018-11-14</th>\n",
       "      <td>44500.0</td>\n",
       "      <td>43800.0</td>\n",
       "      <td>44500.0</td>\n",
       "      <td>44100.0</td>\n",
       "      <td>6783344.0</td>\n",
       "      <td>43692.921875</td>\n",
       "    </tr>\n",
       "    <tr>\n",
       "      <th>2018-11-16</th>\n",
       "      <td>44750.0</td>\n",
       "      <td>43700.0</td>\n",
       "      <td>44600.0</td>\n",
       "      <td>44000.0</td>\n",
       "      <td>7777124.0</td>\n",
       "      <td>43593.843750</td>\n",
       "    </tr>\n",
       "    <tr>\n",
       "      <th>2018-11-19</th>\n",
       "      <td>44250.0</td>\n",
       "      <td>43450.0</td>\n",
       "      <td>44050.0</td>\n",
       "      <td>43650.0</td>\n",
       "      <td>7538720.0</td>\n",
       "      <td>43247.074219</td>\n",
       "    </tr>\n",
       "    <tr>\n",
       "      <th>2018-11-20</th>\n",
       "      <td>43000.0</td>\n",
       "      <td>42100.0</td>\n",
       "      <td>42450.0</td>\n",
       "      <td>42800.0</td>\n",
       "      <td>9420664.0</td>\n",
       "      <td>42404.921875</td>\n",
       "    </tr>\n",
       "    <tr>\n",
       "      <th>2018-11-21</th>\n",
       "      <td>42300.0</td>\n",
       "      <td>41800.0</td>\n",
       "      <td>41800.0</td>\n",
       "      <td>42100.0</td>\n",
       "      <td>10769589.0</td>\n",
       "      <td>41711.382812</td>\n",
       "    </tr>\n",
       "    <tr>\n",
       "      <th>2018-11-22</th>\n",
       "      <td>42650.0</td>\n",
       "      <td>42000.0</td>\n",
       "      <td>42000.0</td>\n",
       "      <td>42450.0</td>\n",
       "      <td>5970796.0</td>\n",
       "      <td>42058.152344</td>\n",
       "    </tr>\n",
       "    <tr>\n",
       "      <th>2018-11-23</th>\n",
       "      <td>42600.0</td>\n",
       "      <td>41900.0</td>\n",
       "      <td>42450.0</td>\n",
       "      <td>42400.0</td>\n",
       "      <td>5192638.0</td>\n",
       "      <td>42008.613281</td>\n",
       "    </tr>\n",
       "    <tr>\n",
       "      <th>2018-11-26</th>\n",
       "      <td>42800.0</td>\n",
       "      <td>42100.0</td>\n",
       "      <td>42150.0</td>\n",
       "      <td>42600.0</td>\n",
       "      <td>6613009.0</td>\n",
       "      <td>42206.769531</td>\n",
       "    </tr>\n",
       "    <tr>\n",
       "      <th>2018-11-27</th>\n",
       "      <td>43100.0</td>\n",
       "      <td>42500.0</td>\n",
       "      <td>42900.0</td>\n",
       "      <td>43050.0</td>\n",
       "      <td>8367091.0</td>\n",
       "      <td>42652.613281</td>\n",
       "    </tr>\n",
       "    <tr>\n",
       "      <th>2018-11-28</th>\n",
       "      <td>43200.0</td>\n",
       "      <td>42750.0</td>\n",
       "      <td>42800.0</td>\n",
       "      <td>43150.0</td>\n",
       "      <td>6943099.0</td>\n",
       "      <td>42751.691406</td>\n",
       "    </tr>\n",
       "    <tr>\n",
       "      <th>2018-11-29</th>\n",
       "      <td>43850.0</td>\n",
       "      <td>42900.0</td>\n",
       "      <td>43850.0</td>\n",
       "      <td>43150.0</td>\n",
       "      <td>8473511.0</td>\n",
       "      <td>42751.691406</td>\n",
       "    </tr>\n",
       "    <tr>\n",
       "      <th>2018-11-30</th>\n",
       "      <td>44000.0</td>\n",
       "      <td>41750.0</td>\n",
       "      <td>43450.0</td>\n",
       "      <td>41850.0</td>\n",
       "      <td>19775519.0</td>\n",
       "      <td>41463.691406</td>\n",
       "    </tr>\n",
       "  </tbody>\n",
       "</table>\n",
       "</div>"
      ],
      "text/plain": [
       "               High      Low     Open    Close      Volume     Adj Close\n",
       "Date                                                                    \n",
       "2018-11-01  42950.0  42150.0  42450.0  42150.0  13423132.0  41760.921875\n",
       "2018-11-02  44250.0  42800.0  43050.0  44150.0  16517112.0  43742.460938\n",
       "2018-11-05  43800.0  42900.0  43750.0  43800.0   9426777.0  43395.691406\n",
       "2018-11-06  43800.0  42950.0  43750.0  43750.0   7713625.0  43346.152344\n",
       "2018-11-07  44500.0  43400.0  43600.0  44000.0  11553998.0  43593.843750\n",
       "2018-11-08  45050.0  44050.0  44900.0  44050.0  12617397.0  43643.382812\n",
       "2018-11-09  44850.0  43900.0  44450.0  44300.0   7318500.0  43891.074219\n",
       "2018-11-12  45250.0  43700.0  43850.0  45200.0   8552566.0  44782.769531\n",
       "2018-11-13  44500.0  43400.0  43900.0  44500.0   9311126.0  44089.230469\n",
       "2018-11-14  44500.0  43800.0  44500.0  44100.0   6783344.0  43692.921875\n",
       "2018-11-16  44750.0  43700.0  44600.0  44000.0   7777124.0  43593.843750\n",
       "2018-11-19  44250.0  43450.0  44050.0  43650.0   7538720.0  43247.074219\n",
       "2018-11-20  43000.0  42100.0  42450.0  42800.0   9420664.0  42404.921875\n",
       "2018-11-21  42300.0  41800.0  41800.0  42100.0  10769589.0  41711.382812\n",
       "2018-11-22  42650.0  42000.0  42000.0  42450.0   5970796.0  42058.152344\n",
       "2018-11-23  42600.0  41900.0  42450.0  42400.0   5192638.0  42008.613281\n",
       "2018-11-26  42800.0  42100.0  42150.0  42600.0   6613009.0  42206.769531\n",
       "2018-11-27  43100.0  42500.0  42900.0  43050.0   8367091.0  42652.613281\n",
       "2018-11-28  43200.0  42750.0  42800.0  43150.0   6943099.0  42751.691406\n",
       "2018-11-29  43850.0  42900.0  43850.0  43150.0   8473511.0  42751.691406\n",
       "2018-11-30  44000.0  41750.0  43450.0  41850.0  19775519.0  41463.691406"
      ]
     },
     "execution_count": 79,
     "metadata": {},
     "output_type": "execute_result"
    }
   ],
   "source": [
    "import pandas as pd\n",
    "from datetime import datetime\n",
    "import pandas_datareader.data as wb\n",
    " \n",
    "start = datetime(2018,11,1)\n",
    "end = datetime(2018,11,30)\n",
    " \n",
    "df = wb.DataReader('005930.KS', 'yahoo',start,end)\n",
    "df"
   ]
  },
  {
   "cell_type": "code",
   "execution_count": 81,
   "metadata": {},
   "outputs": [
    {
     "data": {
      "text/plain": [
       "<AxesSubplot:xlabel='Date'>"
      ]
     },
     "execution_count": 81,
     "metadata": {},
     "output_type": "execute_result"
    },
    {
     "data": {
      "image/png": "[encoded data removed]",
      "text/plain": [
       "<Figure size 432x288 with 1 Axes>"
      ]
     },
     "metadata": {
      "needs_background": "light"
     },
     "output_type": "display_data"
    }
   ],
   "source": [
    "%matplotlib inline \n",
    "df['Close'].plot()"
   ]
  },
  {
   "cell_type": "code",
   "execution_count": 82,
   "metadata": {},
   "outputs": [
    {
     "data": {
      "text/html": [
       "<div>\n",
       "<style scoped>\n",
       "    .dataframe tbody tr th:only-of-type {\n",
       "        vertical-align: middle;\n",
       "    }\n",
       "\n",
       "    .dataframe tbody tr th {\n",
       "        vertical-align: top;\n",
       "    }\n",
       "\n",
       "    .dataframe thead th {\n",
       "        text-align: right;\n",
       "    }\n",
       "</style>\n",
       "<table border=\"1\" class=\"dataframe\">\n",
       "  <thead>\n",
       "    <tr style=\"text-align: right;\">\n",
       "      <th></th>\n",
       "      <th>고객</th>\n",
       "      <th>금액</th>\n",
       "      <th>가맹점</th>\n",
       "      <th>카드</th>\n",
       "    </tr>\n",
       "  </thead>\n",
       "  <tbody>\n",
       "    <tr>\n",
       "      <th>0</th>\n",
       "      <td>A</td>\n",
       "      <td>1000</td>\n",
       "      <td>0001</td>\n",
       "      <td>9440</td>\n",
       "    </tr>\n",
       "    <tr>\n",
       "      <th>1</th>\n",
       "      <td>B</td>\n",
       "      <td>2000</td>\n",
       "      <td>0002</td>\n",
       "      <td>4805</td>\n",
       "    </tr>\n",
       "    <tr>\n",
       "      <th>2</th>\n",
       "      <td>C</td>\n",
       "      <td>5000</td>\n",
       "      <td>0003</td>\n",
       "      <td>4600</td>\n",
       "    </tr>\n",
       "  </tbody>\n",
       "</table>\n",
       "</div>"
      ],
      "text/plain": [
       "  고객    금액   가맹점    카드\n",
       "0  A  1000  0001  9440\n",
       "1  B  2000  0002  4805\n",
       "2  C  5000  0003  4600"
      ]
     },
     "execution_count": 82,
     "metadata": {},
     "output_type": "execute_result"
    }
   ],
   "source": [
    "ds = [ ['A', 1000, '0001', '9440'],\n",
    "       ['B', 2000, '0002', '4805'],\n",
    "       ['C', 5000, '0003', '4600'] ]\n",
    "lb = ['고객','금액','가맹점','카드']\n",
    "df = pd.DataFrame(ds, columns=lb)\n",
    "df"
   ]
  },
  {
   "cell_type": "code",
   "execution_count": 85,
   "metadata": {},
   "outputs": [
    {
     "data": {
      "text/plain": [
       "c        80\n",
       "c++      90\n",
       "java    100\n",
       "dtype: int64"
      ]
     },
     "execution_count": 85,
     "metadata": {},
     "output_type": "execute_result"
    }
   ],
   "source": [
    "score_dict = {'c':80, 'c++':90, 'java':100}\n",
    "score = pd.Series(score_dict)\n",
    "score['c':'java']"
   ]
  },
  {
   "cell_type": "code",
   "execution_count": 88,
   "metadata": {},
   "outputs": [
    {
     "data": {
      "text/plain": [
       "c         80.0\n",
       "c++       90.0\n",
       "python     NaN\n",
       "matlab     NaN\n",
       "dtype: float64"
      ]
     },
     "execution_count": 88,
     "metadata": {},
     "output_type": "execute_result"
    }
   ],
   "source": [
    "subject = ['c', 'c++','python','matlab']\n",
    "score2 = pd.Series(score, index = subject)\n",
    "score2"
   ]
  },
  {
   "cell_type": "code",
   "execution_count": 89,
   "metadata": {},
   "outputs": [
    {
     "data": {
      "text/plain": [
       "c         160.0\n",
       "c++       180.0\n",
       "java        NaN\n",
       "matlab      NaN\n",
       "python      NaN\n",
       "dtype: float64"
      ]
     },
     "execution_count": 89,
     "metadata": {},
     "output_type": "execute_result"
    }
   ],
   "source": [
    "score + score2"
   ]
  },
  {
   "cell_type": "code",
   "execution_count": 14,
   "metadata": {},
   "outputs": [
    {
     "data": {
      "text/plain": [
       "one      1\n",
       "two      2\n",
       "three    3\n",
       "dtype: int64"
      ]
     },
     "execution_count": 14,
     "metadata": {},
     "output_type": "execute_result"
    }
   ],
   "source": [
    "import pandas as pd\n",
    "\n",
    "data = pd.Series([1,2,3], index=['one','two','three'])\n",
    "data\n"
   ]
  },
  {
   "cell_type": "code",
   "execution_count": 8,
   "metadata": {},
   "outputs": [
    {
     "data": {
      "text/plain": [
       "1"
      ]
     },
     "execution_count": 8,
     "metadata": {},
     "output_type": "execute_result"
    }
   ],
   "source": [
    "data['one']"
   ]
  },
  {
   "cell_type": "code",
   "execution_count": 10,
   "metadata": {},
   "outputs": [],
   "source": [
    "data['two'] = 22"
   ]
  },
  {
   "cell_type": "code",
   "execution_count": 15,
   "metadata": {},
   "outputs": [
    {
     "data": {
      "text/plain": [
       "1~3\n",
       "one      1\n",
       "two      2\n",
       "three    3\n",
       "Name: Eng Dic, dtype: int64"
      ]
     },
     "execution_count": 15,
     "metadata": {},
     "output_type": "execute_result"
    }
   ],
   "source": [
    "data.name = \"Eng Dic\"\n",
    "data.index.name = '1~3'\n",
    "data"
   ]
  }
 ],
 "metadata": {
  "kernelspec": {
   "display_name": "Python 3.8.5 64-bit",
   "language": "python",
   "name": "python38564bit75270fb3cc1c47ada2f48f4e9a6cb1db"
  },
  "language_info": {
   "codemirror_mode": {
    "name": "ipython",
    "version": 3
   },
   "file_extension": ".py",
   "mimetype": "text/x-python",
   "name": "python",
   "nbconvert_exporter": "python",
   "pygments_lexer": "ipython3",
   "version": "3.8.6"
  }
 },
 "nbformat": 4,
 "nbformat_minor": 4
}

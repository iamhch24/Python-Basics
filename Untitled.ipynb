{
 "cells": [
  {
   "cell_type": "code",
   "execution_count": 20,
   "metadata": {},
   "outputs": [],
   "source": [
    "from selenium import webdriver\n",
    "import time\n",
    "\n",
    "# url = \"https://naver.com\"\n",
    "url = \"https://us04web.zoom.us/j/9997100028?pwd=UmZHSFVGbkh4RzFlSzJmYXFVdXE1UT09\"\n",
    "\n",
    "driver = webdriver.Chrome('C:/Users/IT-5C/Downloads/chromedriver_win32/chromedriver.exe')\n",
    "driver.implicitly_waitt\n",
    "driver.get(url)    \n",
    "\n",
    "\n",
    "\n"
   ]
  }
 ],
 "metadata": {
  "kernelspec": {
   "display_name": "Python 3.8.5 64-bit",
   "language": "python",
   "name": "python38564bit75270fb3cc1c47ada2f48f4e9a6cb1db"
  },
  "language_info": {
   "codemirror_mode": {
    "name": "ipython",
    "version": 3
   },
   "file_extension": ".py",
   "mimetype": "text/x-python",
   "name": "python",
   "nbconvert_exporter": "python",
   "pygments_lexer": "ipython3",
   "version": "3.8.6"
  }
 },
 "nbformat": 4,
 "nbformat_minor": 4
}
